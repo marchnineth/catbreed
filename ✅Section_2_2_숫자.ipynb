{
  "nbformat": 4,
  "nbformat_minor": 0,
  "metadata": {
    "colab": {
      "provenance": [],
      "toc_visible": true,
      "include_colab_link": true
    },
    "kernelspec": {
      "name": "python3",
      "display_name": "Python 3"
    },
    "language_info": {
      "name": "python"
    }
  },
  "cells": [
    {
      "cell_type": "markdown",
      "metadata": {
        "id": "view-in-github",
        "colab_type": "text"
      },
      "source": [
        "<a href=\"https://colab.research.google.com/github/marchnineth/python_practice/blob/main/%E2%9C%85Section_2_2_%EC%88%AB%EC%9E%90.ipynb\" target=\"_parent\"><img src=\"https://colab.research.google.com/assets/colab-badge.svg\" alt=\"Open In Colab\"/></a>"
      ]
    },
    {
      "cell_type": "markdown",
      "metadata": {
        "id": "oXrXXr_xjDJl"
      },
      "source": [
        "# **숫자형**"
      ]
    },
    {
      "cell_type": "markdown",
      "metadata": {
        "id": "eHm-hMlX2VfW"
      },
      "source": [
        "# **정수형 (int)**\n",
        "\n",
        "수학에서 정수(integer)는 양의 정수(1, 2, 3, 4, 5, 6, 7, 8, ... , n), 음의 정수(-1, -2, -3, -4, -5, -6, -7, -8...) 및 0으로 이루어진 수입니다."
      ]
    },
    {
      "cell_type": "code",
      "metadata": {
        "colab": {
          "base_uri": "https://localhost:8080/"
        },
        "id": "2lOuonfUmf9B",
        "outputId": "b8bf06b4-13b3-4d22-bc1e-36710143331a"
      },
      "source": [
        "type(100)"
      ],
      "execution_count": null,
      "outputs": [
        {
          "output_type": "execute_result",
          "data": {
            "text/plain": [
              "int"
            ]
          },
          "metadata": {},
          "execution_count": 50
        }
      ]
    },
    {
      "cell_type": "code",
      "metadata": {
        "colab": {
          "base_uri": "https://localhost:8080/"
        },
        "id": "oKKYAMVPpbvd",
        "outputId": "a294d151-5e91-4293-809e-db4f7705b667"
      },
      "source": [
        "type(-100)"
      ],
      "execution_count": null,
      "outputs": [
        {
          "output_type": "execute_result",
          "data": {
            "text/plain": [
              "int"
            ]
          },
          "metadata": {},
          "execution_count": 51
        }
      ]
    },
    {
      "cell_type": "markdown",
      "metadata": {
        "id": "MUWIi-UE2dYL"
      },
      "source": [
        "# **실수형 (float)**"
      ]
    },
    {
      "cell_type": "code",
      "metadata": {
        "id": "fmXttyMAm1yy"
      },
      "source": [
        "pi = 3.14"
      ],
      "execution_count": null,
      "outputs": []
    },
    {
      "cell_type": "code",
      "metadata": {
        "colab": {
          "base_uri": "https://localhost:8080/"
        },
        "id": "Esrns3m8phds",
        "outputId": "e6edacd0-83e6-460d-8893-3ccb90671edd"
      },
      "source": [
        "type(pi)"
      ],
      "execution_count": null,
      "outputs": [
        {
          "output_type": "execute_result",
          "data": {
            "text/plain": [
              "float"
            ]
          },
          "metadata": {},
          "execution_count": 53
        }
      ]
    },
    {
      "cell_type": "markdown",
      "metadata": {
        "id": "vZy2wr82T7nh"
      },
      "source": [
        "### **Type casting**"
      ]
    },
    {
      "cell_type": "code",
      "metadata": {
        "colab": {
          "base_uri": "https://localhost:8080/"
        },
        "id": "0X6X1FbOoCtv",
        "outputId": "58877358-cce4-4b52-80c2-d65470eed2c6"
      },
      "source": [
        "# 정수 -> 실수\n",
        "float(1)"
      ],
      "execution_count": null,
      "outputs": [
        {
          "output_type": "execute_result",
          "data": {
            "text/plain": [
              "1.0"
            ]
          },
          "metadata": {},
          "execution_count": 56
        }
      ]
    },
    {
      "cell_type": "code",
      "metadata": {
        "colab": {
          "base_uri": "https://localhost:8080/"
        },
        "id": "L2f55BOTpmxb",
        "outputId": "9587a5ca-d97c-44f9-b088-9f7fcaec6f7b"
      },
      "source": [
        "# 실수 -> 정수\n",
        "int(1.0)"
      ],
      "execution_count": null,
      "outputs": [
        {
          "output_type": "execute_result",
          "data": {
            "text/plain": [
              "1"
            ]
          },
          "metadata": {},
          "execution_count": 57
        }
      ]
    },
    {
      "cell_type": "code",
      "metadata": {
        "colab": {
          "base_uri": "https://localhost:8080/"
        },
        "id": "WGRtAlc3ptVC",
        "outputId": "1701d029-59e8-466c-9b96-a26900b06c6a"
      },
      "source": [
        "int(pi)"
      ],
      "execution_count": null,
      "outputs": [
        {
          "output_type": "execute_result",
          "data": {
            "text/plain": [
              "3"
            ]
          },
          "metadata": {},
          "execution_count": 58
        }
      ]
    },
    {
      "cell_type": "markdown",
      "metadata": {
        "id": "rZoR5uvF6WiD"
      },
      "source": [
        "### **Scientific Notation**\n",
        "데이터 분석을 하다보면 매우 큰 수 또는 매우 작은 수를 표현하거나 저장해야할 때가 있습니다."
      ]
    },
    {
      "cell_type": "code",
      "metadata": {
        "colab": {
          "base_uri": "https://localhost:8080/"
        },
        "id": "cOA_rukhnmZ8",
        "outputId": "8a2310ce-bba1-4bdf-957c-7a6955afbfa1"
      },
      "source": [
        "3E+4"
      ],
      "execution_count": null,
      "outputs": [
        {
          "output_type": "execute_result",
          "data": {
            "text/plain": [
              "30000.0"
            ]
          },
          "metadata": {},
          "execution_count": 63
        }
      ]
    },
    {
      "cell_type": "code",
      "metadata": {
        "colab": {
          "base_uri": "https://localhost:8080/"
        },
        "id": "9v_z81gPqXmh",
        "outputId": "45a43d5e-f7b5-4eae-a1b0-7b6fb41e4cfd"
      },
      "source": [
        "2E-4"
      ],
      "execution_count": null,
      "outputs": [
        {
          "output_type": "execute_result",
          "data": {
            "text/plain": [
              "0.0002"
            ]
          },
          "metadata": {},
          "execution_count": 67
        }
      ]
    },
    {
      "cell_type": "markdown",
      "metadata": {
        "id": "VAxx-tEcBMvt"
      },
      "source": [
        "# **숫자형의 연산**\n",
        "\n",
        "\n",
        "앞에서 산술 연산자를 배웠죠?\n",
        "숫자형끼리는 산술 연산이 가능합니다."
      ]
    },
    {
      "cell_type": "code",
      "metadata": {
        "id": "vFgFx16TDNkn",
        "colab": {
          "base_uri": "https://localhost:8080/"
        },
        "outputId": "3472a06b-7136-4440-b055-0602d7c86529"
      },
      "source": [
        "2 ** 3"
      ],
      "execution_count": null,
      "outputs": [
        {
          "output_type": "execute_result",
          "data": {
            "text/plain": [
              "8"
            ]
          },
          "metadata": {},
          "execution_count": 68
        }
      ]
    },
    {
      "cell_type": "code",
      "metadata": {
        "id": "Iox2KbvXql7N"
      },
      "source": [
        "a = 3"
      ],
      "execution_count": null,
      "outputs": []
    },
    {
      "cell_type": "code",
      "metadata": {
        "colab": {
          "base_uri": "https://localhost:8080/"
        },
        "id": "gXqqVg99qpUs",
        "outputId": "99515d1c-c93f-4088-e10d-61540d55416f"
      },
      "source": [
        "a + pi"
      ],
      "execution_count": null,
      "outputs": [
        {
          "output_type": "execute_result",
          "data": {
            "text/plain": [
              "6.140000000000001"
            ]
          },
          "metadata": {},
          "execution_count": 70
        }
      ]
    },
    {
      "cell_type": "code",
      "metadata": {
        "colab": {
          "base_uri": "https://localhost:8080/"
        },
        "id": "7mTPMggaqp3M",
        "outputId": "946a1fb5-ca27-49fc-d20e-9b08f37b65dd"
      },
      "source": [
        "type(2 * 3)"
      ],
      "execution_count": null,
      "outputs": [
        {
          "output_type": "execute_result",
          "data": {
            "text/plain": [
              "int"
            ]
          },
          "metadata": {},
          "execution_count": 72
        }
      ]
    },
    {
      "cell_type": "code",
      "metadata": {
        "colab": {
          "base_uri": "https://localhost:8080/"
        },
        "id": "RzaZFNe3qwyS",
        "outputId": "7a3b586f-b50c-42f3-d93d-06a563293a1f"
      },
      "source": [
        "type(2 * 3.0)"
      ],
      "execution_count": null,
      "outputs": [
        {
          "output_type": "execute_result",
          "data": {
            "text/plain": [
              "float"
            ]
          },
          "metadata": {},
          "execution_count": 74
        }
      ]
    }
  ]
}