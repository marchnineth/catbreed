{
  "nbformat": 4,
  "nbformat_minor": 0,
  "metadata": {
    "colab": {
      "provenance": [],
      "include_colab_link": true
    },
    "kernelspec": {
      "name": "python3",
      "display_name": "Python 3"
    },
    "language_info": {
      "name": "python"
    }
  },
  "cells": [
    {
      "cell_type": "markdown",
      "metadata": {
        "id": "view-in-github",
        "colab_type": "text"
      },
      "source": [
        "<a href=\"https://colab.research.google.com/github/marchnineth/python_practice/blob/main/%E2%9C%85Section_2_3_%EB%AC%B8%EC%9E%90%EC%97%B4ipynb.ipynb\" target=\"_parent\"><img src=\"https://colab.research.google.com/assets/colab-badge.svg\" alt=\"Open In Colab\"/></a>"
      ]
    },
    {
      "cell_type": "markdown",
      "metadata": {
        "id": "rmXhuCDmybcn"
      },
      "source": [
        "#**문자열 String**\n",
        "숫자 외에도 Python 에서 사용할 수 있는 자료형에는 문자열이 있습니다.\n",
        "\n",
        "문자열은 홑따옴표 `' '` 로 감싸거나, 쌍따옴표 `\" \"` 로 감싸서 나타낼 수 있습니다."
      ]
    },
    {
      "cell_type": "code",
      "metadata": {
        "id": "F6wqnSlmzG4Y",
        "colab": {
          "base_uri": "https://localhost:8080/",
          "height": 35
        },
        "outputId": "2cd17085-0144-4974-cf11-cdea89bb7371"
      },
      "source": [
        "\"hello python!\""
      ],
      "execution_count": null,
      "outputs": [
        {
          "output_type": "execute_result",
          "data": {
            "application/vnd.google.colaboratory.intrinsic+json": {
              "type": "string"
            },
            "text/plain": [
              "'hello python!'"
            ]
          },
          "metadata": {},
          "execution_count": 1
        }
      ]
    },
    {
      "cell_type": "markdown",
      "metadata": {
        "id": "Jbp5MtFnzBVc"
      },
      "source": [
        "### **따옴표를 포함한 문자열**\n",
        "\n",
        "따옴표를 문자열 안에 넣고 싶을 때는 어떻게 해야할까요?"
      ]
    },
    {
      "cell_type": "code",
      "metadata": {
        "colab": {
          "base_uri": "https://localhost:8080/",
          "height": 35
        },
        "id": "gk6x_SbTznZw",
        "outputId": "69724b4c-a2e6-46ad-9912-a070c5275552"
      },
      "source": [
        "\"i'm a student\""
      ],
      "execution_count": null,
      "outputs": [
        {
          "output_type": "execute_result",
          "data": {
            "application/vnd.google.colaboratory.intrinsic+json": {
              "type": "string"
            },
            "text/plain": [
              "\"i'm a student\""
            ]
          },
          "metadata": {},
          "execution_count": 2
        }
      ]
    },
    {
      "cell_type": "code",
      "metadata": {
        "colab": {
          "base_uri": "https://localhost:8080/",
          "height": 35
        },
        "id": "CLb6ZL9u685h",
        "outputId": "0f5f459e-f71d-42c4-8200-48e6082d103e"
      },
      "source": [
        "'피카츄가 \"피카\"하고 말했다'"
      ],
      "execution_count": null,
      "outputs": [
        {
          "output_type": "execute_result",
          "data": {
            "application/vnd.google.colaboratory.intrinsic+json": {
              "type": "string"
            },
            "text/plain": [
              "'피카츄가 \"피카\"하고 말했다'"
            ]
          },
          "metadata": {},
          "execution_count": 3
        }
      ]
    },
    {
      "cell_type": "markdown",
      "metadata": {
        "id": "Y7yc4UUepccd"
      },
      "source": [
        "### **문자열 여러 줄 입력하기**\n",
        "\n",
        "여러줄의 문자열을 입력해봅시다."
      ]
    },
    {
      "cell_type": "markdown",
      "metadata": {
        "id": "RfrK0a3Mr1aG"
      },
      "source": [
        "큰 따옴표를 3번 `\"\"\"...\"\"\"` 혹은 작은 따옴표를 3번 `'''...'''` 반복해서 사용함으로써 여러줄의 문자열을 나타낼 수 있습니다. "
      ]
    },
    {
      "cell_type": "code",
      "metadata": {
        "colab": {
          "base_uri": "https://localhost:8080/",
          "height": 35
        },
        "id": "FhJTwcS5qL9D",
        "outputId": "466e2625-efd2-4e06-ed5c-df2a9b603c7f"
      },
      "source": [
        "\"\"\"\n",
        "피카츄\n",
        "라이츄\n",
        "파이리\n",
        "꼬부기\n",
        "\"\"\""
      ],
      "execution_count": null,
      "outputs": [
        {
          "output_type": "execute_result",
          "data": {
            "application/vnd.google.colaboratory.intrinsic+json": {
              "type": "string"
            },
            "text/plain": [
              "'\\n피카츄\\n라이츄\\n파이리\\n꼬부기\\n'"
            ]
          },
          "metadata": {},
          "execution_count": 4
        }
      ]
    },
    {
      "cell_type": "markdown",
      "metadata": {
        "id": "VfmlRPMwtnPu"
      },
      "source": [
        "### **문자열 합치기, 반복하기**\n"
      ]
    },
    {
      "cell_type": "markdown",
      "metadata": {
        "id": "7KvjSYbo-rQQ"
      },
      "source": [
        "연산자를 사용해 문자열을 합치거나 반복할 수 있습니다.\n",
        "\n",
        "`+` 연산자로 문자열끼리 합치고 , `*` 연산자를 사용해 문자열을 여러번 반복할 수 있습니다."
      ]
    },
    {
      "cell_type": "code",
      "metadata": {
        "colab": {
          "base_uri": "https://localhost:8080/",
          "height": 35
        },
        "id": "Fi14a_hv2zfk",
        "outputId": "0f91704a-67f1-4d37-da49-216a09b57ce8"
      },
      "source": [
        "'피카' + '츄'"
      ],
      "execution_count": null,
      "outputs": [
        {
          "output_type": "execute_result",
          "data": {
            "application/vnd.google.colaboratory.intrinsic+json": {
              "type": "string"
            },
            "text/plain": [
              "'피카츄'"
            ]
          },
          "metadata": {},
          "execution_count": 5
        }
      ]
    },
    {
      "cell_type": "code",
      "metadata": {
        "colab": {
          "base_uri": "https://localhost:8080/",
          "height": 35
        },
        "id": "Udy4xITL7Y-9",
        "outputId": "12a78f60-87ab-452d-d69a-82c45f5d76bc"
      },
      "source": [
        "'피카' * 3"
      ],
      "execution_count": null,
      "outputs": [
        {
          "output_type": "execute_result",
          "data": {
            "application/vnd.google.colaboratory.intrinsic+json": {
              "type": "string"
            },
            "text/plain": [
              "'피카피카피카'"
            ]
          },
          "metadata": {},
          "execution_count": 6
        }
      ]
    },
    {
      "cell_type": "markdown",
      "metadata": {
        "id": "kv9fhOnJt-PW"
      },
      "source": [
        "### **문자열 인덱싱 Indexing**"
      ]
    },
    {
      "cell_type": "code",
      "metadata": {
        "id": "cyKDNaA93FnV",
        "colab": {
          "base_uri": "https://localhost:8080/",
          "height": 35
        },
        "outputId": "d0c1abdc-3d64-4cbd-cd29-87d128a403dd"
      },
      "source": [
        "car_brands = ['volvo', 'kia']\n",
        "car_brands[0]"
      ],
      "execution_count": null,
      "outputs": [
        {
          "output_type": "execute_result",
          "data": {
            "application/vnd.google.colaboratory.intrinsic+json": {
              "type": "string"
            },
            "text/plain": [
              "'volvo'"
            ]
          },
          "metadata": {},
          "execution_count": 7
        }
      ]
    },
    {
      "cell_type": "code",
      "metadata": {
        "id": "QHby2Rvu7pDu"
      },
      "source": [
        "pokemon = '피카츄'"
      ],
      "execution_count": null,
      "outputs": []
    },
    {
      "cell_type": "code",
      "metadata": {
        "colab": {
          "base_uri": "https://localhost:8080/",
          "height": 35
        },
        "id": "1nUFbjHe7uiq",
        "outputId": "298da705-4cab-4ac3-8771-fa624aa450ce"
      },
      "source": [
        "pokemon[2]"
      ],
      "execution_count": null,
      "outputs": [
        {
          "output_type": "execute_result",
          "data": {
            "application/vnd.google.colaboratory.intrinsic+json": {
              "type": "string"
            },
            "text/plain": [
              "'츄'"
            ]
          },
          "metadata": {},
          "execution_count": 9
        }
      ]
    },
    {
      "cell_type": "code",
      "metadata": {
        "colab": {
          "base_uri": "https://localhost:8080/",
          "height": 35
        },
        "id": "mUknB-JX7_Cu",
        "outputId": "166bb8d0-6dca-4699-941b-c616b4e010f5"
      },
      "source": [
        "pokemon[-1]"
      ],
      "execution_count": null,
      "outputs": [
        {
          "output_type": "execute_result",
          "data": {
            "application/vnd.google.colaboratory.intrinsic+json": {
              "type": "string"
            },
            "text/plain": [
              "'츄'"
            ]
          },
          "metadata": {},
          "execution_count": 10
        }
      ]
    },
    {
      "cell_type": "markdown",
      "metadata": {
        "id": "kyty9HzV4FK9"
      },
      "source": [
        "### **문자열 슬라이싱 Slicing**"
      ]
    },
    {
      "cell_type": "code",
      "metadata": {
        "colab": {
          "base_uri": "https://localhost:8080/",
          "height": 35
        },
        "id": "aOzmgqqE6tgD",
        "outputId": "7acb4616-06da-4858-c382-18a44844cc7c"
      },
      "source": [
        "# pokemon[n:m] # 인덱스 n ~ 인덱스 m-1\n",
        "pokemon[0:2] # 0~1"
      ],
      "execution_count": null,
      "outputs": [
        {
          "output_type": "execute_result",
          "data": {
            "application/vnd.google.colaboratory.intrinsic+json": {
              "type": "string"
            },
            "text/plain": [
              "'피카'"
            ]
          },
          "metadata": {},
          "execution_count": 11
        }
      ]
    },
    {
      "cell_type": "code",
      "metadata": {
        "colab": {
          "base_uri": "https://localhost:8080/",
          "height": 35
        },
        "id": "8AJVo4Cn8YJ6",
        "outputId": "fc6ef7ce-4f8a-4e87-b37f-782d5faaac6b"
      },
      "source": [
        "# pokemon[:m] # 첫번째 원소부터 ~ 인덱스 m-1\n",
        "pokemon[:2]"
      ],
      "execution_count": null,
      "outputs": [
        {
          "output_type": "execute_result",
          "data": {
            "application/vnd.google.colaboratory.intrinsic+json": {
              "type": "string"
            },
            "text/plain": [
              "'피카'"
            ]
          },
          "metadata": {},
          "execution_count": 12
        }
      ]
    },
    {
      "cell_type": "code",
      "metadata": {
        "colab": {
          "base_uri": "https://localhost:8080/",
          "height": 35
        },
        "id": "h6P8PA1V8tCu",
        "outputId": "59f8f6af-537a-4caa-dfb4-1308f9096511"
      },
      "source": [
        "pokemon[1:]"
      ],
      "execution_count": null,
      "outputs": [
        {
          "output_type": "execute_result",
          "data": {
            "application/vnd.google.colaboratory.intrinsic+json": {
              "type": "string"
            },
            "text/plain": [
              "'카츄'"
            ]
          },
          "metadata": {},
          "execution_count": 13
        }
      ]
    },
    {
      "cell_type": "markdown",
      "metadata": {
        "id": "Tzey4lfl8Dxs"
      },
      "source": [
        "### **문자열의 길이 확인하기**\n",
        "\n",
        "파이썬 내장함수 `len( )` 을 사용하여 문자열의 길이를 구할 수 있습니다."
      ]
    },
    {
      "cell_type": "code",
      "metadata": {
        "id": "yPmUCbFJ3ffo",
        "colab": {
          "base_uri": "https://localhost:8080/"
        },
        "outputId": "522cb6f8-fff2-4e93-f7ba-cd79be09818a"
      },
      "source": [
        "len(pokemon)"
      ],
      "execution_count": null,
      "outputs": [
        {
          "output_type": "execute_result",
          "data": {
            "text/plain": [
              "3"
            ]
          },
          "metadata": {},
          "execution_count": 14
        }
      ]
    },
    {
      "cell_type": "markdown",
      "metadata": {
        "id": "K-jEugDxKFLm"
      },
      "source": [
        "# **문자열에서 사용할 수 있는 함수**"
      ]
    },
    {
      "cell_type": "markdown",
      "metadata": {
        "id": "BLf9zROhnMwJ"
      },
      "source": [
        "###**문자열 내에서 특정 문자의 위치 찾기 find**\n",
        "\n",
        "`find( )` 메소드를 사용해 문자열에서 특정 문자가 어디에 위치해있는지 확인할 수 있습니다."
      ]
    },
    {
      "cell_type": "code",
      "metadata": {
        "id": "A4cQyhcvn7GM",
        "colab": {
          "base_uri": "https://localhost:8080/",
          "height": 35
        },
        "outputId": "e355b407-ea8c-46c5-e8e9-2b0a90751d5c"
      },
      "source": [
        "pokemon"
      ],
      "execution_count": null,
      "outputs": [
        {
          "output_type": "execute_result",
          "data": {
            "application/vnd.google.colaboratory.intrinsic+json": {
              "type": "string"
            },
            "text/plain": [
              "'피카츄'"
            ]
          },
          "metadata": {},
          "execution_count": 16
        }
      ]
    },
    {
      "cell_type": "code",
      "metadata": {
        "id": "xH_mmBkHaxRd"
      },
      "source": [
        "idx = pokemon.find('피')"
      ],
      "execution_count": null,
      "outputs": []
    },
    {
      "cell_type": "code",
      "metadata": {
        "colab": {
          "base_uri": "https://localhost:8080/"
        },
        "id": "sni_SHq2a5-Q",
        "outputId": "6adfe0f2-b320-4873-8e84-a2694c62b32c"
      },
      "source": [
        "idx"
      ],
      "execution_count": null,
      "outputs": [
        {
          "output_type": "execute_result",
          "data": {
            "text/plain": [
              "0"
            ]
          },
          "metadata": {},
          "execution_count": 19
        }
      ]
    },
    {
      "cell_type": "code",
      "metadata": {
        "colab": {
          "base_uri": "https://localhost:8080/",
          "height": 35
        },
        "id": "Elc6qz00a64n",
        "outputId": "afbd2245-2d17-4179-b5ee-4636009e7823"
      },
      "source": [
        "pokemon[idx]"
      ],
      "execution_count": null,
      "outputs": [
        {
          "output_type": "execute_result",
          "data": {
            "application/vnd.google.colaboratory.intrinsic+json": {
              "type": "string"
            },
            "text/plain": [
              "'피'"
            ]
          },
          "metadata": {},
          "execution_count": 20
        }
      ]
    },
    {
      "cell_type": "markdown",
      "metadata": {
        "id": "nx7ncS2VnIKl"
      },
      "source": [
        "### **문자열 중 일부 대치하기 replace**\n",
        "\n",
        "`replace( )` 메소드를 사용해서 문자열에 포함된 일부를 다른 내용으로 대치할 수 있습니다."
      ]
    },
    {
      "cell_type": "code",
      "metadata": {
        "colab": {
          "base_uri": "https://localhost:8080/",
          "height": 35
        },
        "id": "y8UKum3GbRk9",
        "outputId": "8a54af4f-157a-4d44-cde7-05cbcb3c287b"
      },
      "source": [
        "pokemon"
      ],
      "execution_count": null,
      "outputs": [
        {
          "output_type": "execute_result",
          "data": {
            "application/vnd.google.colaboratory.intrinsic+json": {
              "type": "string"
            },
            "text/plain": [
              "'피카츄'"
            ]
          },
          "metadata": {},
          "execution_count": 23
        }
      ]
    },
    {
      "cell_type": "code",
      "metadata": {
        "id": "lwlfyU7L-v6e"
      },
      "source": [
        "pokemon_1 = pokemon.replace('피카', '라이')"
      ],
      "execution_count": null,
      "outputs": []
    },
    {
      "cell_type": "code",
      "metadata": {
        "colab": {
          "base_uri": "https://localhost:8080/",
          "height": 35
        },
        "id": "Mm51qgtFbX0l",
        "outputId": "20ae94c5-6604-4705-d0b2-614060e365f0"
      },
      "source": [
        "pokemon_1"
      ],
      "execution_count": null,
      "outputs": [
        {
          "output_type": "execute_result",
          "data": {
            "application/vnd.google.colaboratory.intrinsic+json": {
              "type": "string"
            },
            "text/plain": [
              "'라이츄'"
            ]
          },
          "metadata": {},
          "execution_count": 26
        }
      ]
    },
    {
      "cell_type": "markdown",
      "metadata": {
        "id": "v84K0riMnMDd"
      },
      "source": [
        "### **특정 문자로 문자열 나누기 split**\n",
        "\n",
        "`split( )` 메소드를 사용해 문자열을 특정 문자로 나눌 수 있습니다.\n",
        "\n",
        "괄호 안에 들어간 문자를 기준으로 문자열을 나누어 리스트로 반환해줍니다."
      ]
    },
    {
      "cell_type": "code",
      "metadata": {
        "id": "-xoD3-A9-pQ_"
      },
      "source": [
        "sample = '피카츄 라이츄 파이리 꼬부기'"
      ],
      "execution_count": null,
      "outputs": []
    },
    {
      "cell_type": "code",
      "metadata": {
        "colab": {
          "base_uri": "https://localhost:8080/",
          "height": 35
        },
        "id": "9e7kHChNby3g",
        "outputId": "43cc8682-b42d-4d6a-9012-a935ebb35735"
      },
      "source": [
        "sample"
      ],
      "execution_count": null,
      "outputs": [
        {
          "output_type": "execute_result",
          "data": {
            "application/vnd.google.colaboratory.intrinsic+json": {
              "type": "string"
            },
            "text/plain": [
              "'피카츄 라이츄 파이리 꼬부기'"
            ]
          },
          "metadata": {},
          "execution_count": 29
        }
      ]
    },
    {
      "cell_type": "code",
      "metadata": {
        "id": "Y9r3vHrhbiS1"
      },
      "source": [
        "sample_splited = sample.split()"
      ],
      "execution_count": null,
      "outputs": []
    },
    {
      "cell_type": "code",
      "metadata": {
        "colab": {
          "base_uri": "https://localhost:8080/"
        },
        "id": "Cz6JzSFLb4yj",
        "outputId": "9bb0b32a-4ae2-4560-ebf6-24b51057b88d"
      },
      "source": [
        "sample_splited"
      ],
      "execution_count": null,
      "outputs": [
        {
          "output_type": "execute_result",
          "data": {
            "text/plain": [
              "['피카츄', '라이츄', '파이리', '꼬부기']"
            ]
          },
          "metadata": {},
          "execution_count": 32
        }
      ]
    },
    {
      "cell_type": "code",
      "metadata": {
        "colab": {
          "base_uri": "https://localhost:8080/"
        },
        "id": "HM5BebqYb8VP",
        "outputId": "c7cb68a4-684b-434b-906e-052a8ed765e0"
      },
      "source": [
        "sample.split('츄')"
      ],
      "execution_count": null,
      "outputs": [
        {
          "output_type": "execute_result",
          "data": {
            "text/plain": [
              "['피카', ' 라이', ' 파이리 꼬부기']"
            ]
          },
          "metadata": {},
          "execution_count": 33
        }
      ]
    },
    {
      "cell_type": "markdown",
      "metadata": {
        "id": "4KYkFwTBnLRE"
      },
      "source": [
        "### **문자열의 앞 뒤 공백 제거 strip**\n",
        "\n",
        "`strip()` 메소드를 사용해 문자열의 앞, 뒤 공백을 제거해줄 수 있습니다.\n"
      ]
    },
    {
      "cell_type": "code",
      "metadata": {
        "id": "a2lHiLTN-ftC"
      },
      "source": [
        "pokemon = '    피카츄  '"
      ],
      "execution_count": null,
      "outputs": []
    },
    {
      "cell_type": "code",
      "metadata": {
        "id": "Bvc8CnAPcSg-"
      },
      "source": [
        "pokemon = pokemon.strip()"
      ],
      "execution_count": null,
      "outputs": []
    },
    {
      "cell_type": "code",
      "metadata": {
        "colab": {
          "base_uri": "https://localhost:8080/",
          "height": 35
        },
        "id": "eskeNT46cblf",
        "outputId": "af8a1615-d302-4da5-eb84-267fb5d6cb1e"
      },
      "source": [
        "pokemon"
      ],
      "execution_count": null,
      "outputs": [
        {
          "output_type": "execute_result",
          "data": {
            "application/vnd.google.colaboratory.intrinsic+json": {
              "type": "string"
            },
            "text/plain": [
              "'피카츄'"
            ]
          },
          "metadata": {},
          "execution_count": 38
        }
      ]
    },
    {
      "cell_type": "markdown",
      "metadata": {
        "id": "FCWTGyxKnJdN"
      },
      "source": [
        "### 대소문자 변환 **upper, lower**\n",
        "\n",
        "알파벳으로 이루어진 문자열을 사용할 때 대문자, 소문자로 변환해주는 메소드입니다."
      ]
    },
    {
      "cell_type": "code",
      "metadata": {
        "id": "JrZHtfua-WBL"
      },
      "source": [
        "sample = 'Pokemon'"
      ],
      "execution_count": null,
      "outputs": []
    },
    {
      "cell_type": "code",
      "metadata": {
        "colab": {
          "base_uri": "https://localhost:8080/",
          "height": 35
        },
        "id": "FNgiB2yVcgtr",
        "outputId": "38cd5bb0-774f-43f3-8145-5c2f94c5f5ec"
      },
      "source": [
        "sample_upper = sample.upper()"
      ],
      "execution_count": null,
      "outputs": [
        {
          "output_type": "execute_result",
          "data": {
            "application/vnd.google.colaboratory.intrinsic+json": {
              "type": "string"
            },
            "text/plain": [
              "'POKEMON'"
            ]
          },
          "metadata": {},
          "execution_count": 40
        }
      ]
    },
    {
      "cell_type": "code",
      "metadata": {
        "colab": {
          "base_uri": "https://localhost:8080/",
          "height": 35
        },
        "id": "8qVWUEyici19",
        "outputId": "f76bb6dc-7c94-41d6-e1c6-17a744c46001"
      },
      "source": [
        "sample.lower()"
      ],
      "execution_count": null,
      "outputs": [
        {
          "output_type": "execute_result",
          "data": {
            "application/vnd.google.colaboratory.intrinsic+json": {
              "type": "string"
            },
            "text/plain": [
              "'pokemon'"
            ]
          },
          "metadata": {},
          "execution_count": 41
        }
      ]
    },
    {
      "cell_type": "markdown",
      "metadata": {
        "id": "8Av2Gv5nrcO6"
      },
      "source": [
        "# 참고\n",
        "* [문자열과 정규 표현식](https://tensorflow.blog/%ed%9a%8c%ec%98%a4%eb%a6%ac%eb%b0%94%eb%9e%8c%ec%9d%84-%ed%83%84-%ed%8c%8c%ec%9d%b4%ec%8d%ac/%eb%ac%b8%ec%9e%90%ec%97%b4%ea%b3%bc-%ec%a0%95%ea%b7%9c-%ed%91%9c%ed%98%84%ec%8b%9d/)"
      ]
    }
  ]
}