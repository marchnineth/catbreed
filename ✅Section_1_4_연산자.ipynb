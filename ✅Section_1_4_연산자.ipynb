{
  "nbformat": 4,
  "nbformat_minor": 0,
  "metadata": {
    "colab": {
      "provenance": [],
      "toc_visible": true,
      "include_colab_link": true
    },
    "kernelspec": {
      "name": "python3",
      "display_name": "Python 3"
    },
    "language_info": {
      "name": "python"
    }
  },
  "cells": [
    {
      "cell_type": "markdown",
      "metadata": {
        "id": "view-in-github",
        "colab_type": "text"
      },
      "source": [
        "<a href=\"https://colab.research.google.com/github/marchnineth/python_practice/blob/main/%E2%9C%85Section_1_4_%EC%97%B0%EC%82%B0%EC%9E%90.ipynb\" target=\"_parent\"><img src=\"https://colab.research.google.com/assets/colab-badge.svg\" alt=\"Open In Colab\"/></a>"
      ]
    },
    {
      "cell_type": "markdown",
      "metadata": {
        "id": "61ThdtKAf1Ca"
      },
      "source": [
        "# **연산자**\n",
        "\n",
        "\n",
        "1.   산술 연산자\n",
        "2. 할당 연산자/ 복합 할당 연산자\n",
        "3.   비교 연산자\n",
        "4. 논리 연산자 \n",
        "5. 구성원(소속) 연산자\n"
      ]
    },
    {
      "cell_type": "markdown",
      "metadata": {
        "id": "eT_qZSkwglhD"
      },
      "source": [
        "## **1. 산술 연산자 - Arithmetic Operators**\n",
        "\n",
        "\n",
        "\n",
        "* `+` : 더하기\n",
        "* `-` : 빼기\n",
        "* `* `: 곱하기\n",
        "* `/` : 나누기\n",
        "* `//` : 정수 몫\n",
        "* `%`: 나머지"
      ]
    },
    {
      "cell_type": "code",
      "metadata": {
        "id": "Ngz_9K_af0pz",
        "colab": {
          "base_uri": "https://localhost:8080/"
        },
        "outputId": "5ee2104d-f964-4913-b3a7-ff22e28818bd"
      },
      "source": [
        "10 * 3"
      ],
      "execution_count": null,
      "outputs": [
        {
          "output_type": "execute_result",
          "data": {
            "text/plain": [
              "30"
            ]
          },
          "metadata": {},
          "execution_count": 11
        }
      ]
    },
    {
      "cell_type": "markdown",
      "metadata": {
        "id": "Rui5jbR224-z"
      },
      "source": [
        "## **2. 할당 연산자/ 복합 할당 연산자 - Assignment operators**\n",
        "\n",
        "\n",
        "할당 연산자: 변수에 값을 대입할 때 사용\n",
        "\n",
        "\n",
        "```\n",
        "변수명 = 값\n",
        "```\n",
        "\n",
        "<br>\n",
        "\n",
        "\n",
        "복합 할당 연산자: 연산과 할당을 합친 연산자\n",
        "\n",
        "```\n",
        " +=\n",
        " -=\n",
        " *=\n",
        " /=\n",
        " %=\n",
        " **=\n",
        " //=\n",
        "```\n",
        "\n"
      ]
    },
    {
      "cell_type": "code",
      "metadata": {
        "id": "di1fM5_V1glz"
      },
      "source": [
        "a = 1\n",
        "b = 2"
      ],
      "execution_count": null,
      "outputs": []
    },
    {
      "cell_type": "code",
      "metadata": {
        "id": "Ey3aXxSY-HnO"
      },
      "source": [
        "# a = a + b\n",
        "a += b"
      ],
      "execution_count": null,
      "outputs": []
    },
    {
      "cell_type": "code",
      "metadata": {
        "colab": {
          "base_uri": "https://localhost:8080/"
        },
        "id": "eoWTFAqI-Jil",
        "outputId": "1f73df77-b787-4285-8d7e-041e3ab66612"
      },
      "source": [
        "a"
      ],
      "execution_count": null,
      "outputs": [
        {
          "output_type": "execute_result",
          "data": {
            "text/plain": [
              "3"
            ]
          },
          "metadata": {},
          "execution_count": 20
        }
      ]
    },
    {
      "cell_type": "markdown",
      "metadata": {
        "id": "GiDMQZIGyDZb"
      },
      "source": [
        "## **3. 비교 연산자 - Comparison operators**\n",
        "\n",
        "두 값의 크기를 비교할 때 사용되는 연산자\n",
        "\n",
        "* \\>\n",
        "* <\n",
        "* \\>=\n",
        "* <=\n",
        "* ==\n",
        "* !=\n"
      ]
    },
    {
      "cell_type": "markdown",
      "metadata": {
        "id": "T5qg-9pPxOOF"
      },
      "source": [
        "*할당 연산자의 `=` 와 비교 연산자의 `==` 연산이 다르기 때문에 주의를 하면서 사용해야한다*\n"
      ]
    },
    {
      "cell_type": "code",
      "metadata": {
        "id": "dk820mm1o2Qa",
        "colab": {
          "base_uri": "https://localhost:8080/"
        },
        "outputId": "9788095f-68c6-4cd2-dd05-e8ca963396d5"
      },
      "source": [
        "2 != 3"
      ],
      "execution_count": null,
      "outputs": [
        {
          "output_type": "execute_result",
          "data": {
            "text/plain": [
              "True"
            ]
          },
          "metadata": {},
          "execution_count": 27
        }
      ]
    },
    {
      "cell_type": "markdown",
      "metadata": {
        "id": "0Z1JNw6rvjEs"
      },
      "source": [
        "## **4. 논리 연산자 -  Logical Operators**\n",
        "\n",
        "```\n",
        "and\n",
        "or\n",
        "not\n",
        "```"
      ]
    },
    {
      "cell_type": "code",
      "metadata": {
        "id": "oucpds5wkR00",
        "colab": {
          "base_uri": "https://localhost:8080/"
        },
        "outputId": "b77b5adb-2787-40e7-b0ba-5c4c34abba75"
      },
      "source": [
        "# and\n",
        "# True and True = True\n",
        "# True and False = False"
      ],
      "execution_count": null,
      "outputs": [
        {
          "output_type": "execute_result",
          "data": {
            "text/plain": [
              "True"
            ]
          },
          "metadata": {},
          "execution_count": 28
        }
      ]
    },
    {
      "cell_type": "code",
      "metadata": {
        "colab": {
          "base_uri": "https://localhost:8080/"
        },
        "id": "IFd6Od0E--OK",
        "outputId": "08ed2511-1d9d-4b43-aec2-3770260719b6"
      },
      "source": [
        "# or\n",
        "# True or True = True\n",
        "# True or False = True"
      ],
      "execution_count": null,
      "outputs": [
        {
          "output_type": "execute_result",
          "data": {
            "text/plain": [
              "True"
            ]
          },
          "metadata": {},
          "execution_count": 31
        }
      ]
    },
    {
      "cell_type": "code",
      "metadata": {
        "colab": {
          "base_uri": "https://localhost:8080/"
        },
        "id": "c46CEqNw_DxX",
        "outputId": "e79d6c45-6469-4cc3-cde3-f93d7a221546"
      },
      "source": [
        "not False"
      ],
      "execution_count": null,
      "outputs": [
        {
          "output_type": "execute_result",
          "data": {
            "text/plain": [
              "True"
            ]
          },
          "metadata": {},
          "execution_count": 33
        }
      ]
    },
    {
      "cell_type": "code",
      "metadata": {
        "id": "3iLkq3Bo_Vig"
      },
      "source": [
        "a = 2 > 1\n",
        "b = 3 >= 1"
      ],
      "execution_count": null,
      "outputs": []
    },
    {
      "cell_type": "code",
      "metadata": {
        "colab": {
          "base_uri": "https://localhost:8080/"
        },
        "id": "GPKGdwiH_cp-",
        "outputId": "04943fd7-810c-4742-f236-b785f234ad24"
      },
      "source": [
        "(2 > 1) and (3 >= 1)"
      ],
      "execution_count": null,
      "outputs": [
        {
          "output_type": "execute_result",
          "data": {
            "text/plain": [
              "True"
            ]
          },
          "metadata": {},
          "execution_count": 38
        }
      ]
    },
    {
      "cell_type": "markdown",
      "metadata": {
        "id": "ccR5hn5F0MY0"
      },
      "source": [
        "## **5. 구성원(소속) 연산자 - Membership Operators**\n",
        "\n",
        "특정 자료가 해당 컬렉션에 속하는지 혹은 속하지 않는 지 판별하는 연산자\n",
        "\n",
        "* in: 해당 컬렉션에 속한다 \n",
        "* not in: 해당 컬렉션에 속하지 않는다."
      ]
    },
    {
      "cell_type": "code",
      "metadata": {
        "id": "RtJNQUhS-ucO"
      },
      "source": [
        "car_brands = ['volvo', 'kia']"
      ],
      "execution_count": null,
      "outputs": []
    },
    {
      "cell_type": "code",
      "metadata": {
        "colab": {
          "base_uri": "https://localhost:8080/"
        },
        "id": "vZ5z_LDQ_xWa",
        "outputId": "96805131-8848-4397-f1ed-6cc82e208a77"
      },
      "source": [
        "'현대' not in car_brands"
      ],
      "execution_count": null,
      "outputs": [
        {
          "output_type": "execute_result",
          "data": {
            "text/plain": [
              "True"
            ]
          },
          "metadata": {},
          "execution_count": 42
        }
      ]
    },
    {
      "cell_type": "markdown",
      "metadata": {
        "id": "AH_llwXxCe19"
      },
      "source": [
        "# 참고자료\n",
        "- [회오리 파이썬 연산자](https://tensorflow.blog/%ed%9a%8c%ec%98%a4%eb%a6%ac%eb%b0%94%eb%9e%8c%ec%9d%84-%ed%83%84-%ed%8c%8c%ec%9d%b4%ec%8d%ac/%ed%8c%8c%ec%9d%b4%ec%8d%ac-%ec%97%b0%ec%82%b0%ec%9e%90/)\n",
        "- [w3school Python Operators](https://www.w3schools.com/python/python_operators.asp)"
      ]
    }
  ]
}