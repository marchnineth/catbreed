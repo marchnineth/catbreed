{
  "nbformat": 4,
  "nbformat_minor": 0,
  "metadata": {
    "colab": {
      "provenance": [],
      "include_colab_link": true
    },
    "kernelspec": {
      "name": "python3",
      "display_name": "Python 3"
    },
    "language_info": {
      "name": "python"
    }
  },
  "cells": [
    {
      "cell_type": "markdown",
      "metadata": {
        "id": "view-in-github",
        "colab_type": "text"
      },
      "source": [
        "<a href=\"https://colab.research.google.com/github/marchnineth/python_practice/blob/main/%E2%9C%85Section_2_1_%EA%B8%B0%EB%B3%B8_%EB%8D%B0%EC%9D%B4%ED%84%B0_%ED%83%80%EC%9E%85_%EA%B0%9C%EA%B4%84.ipynb\" target=\"_parent\"><img src=\"https://colab.research.google.com/assets/colab-badge.svg\" alt=\"Open In Colab\"/></a>"
      ]
    },
    {
      "cell_type": "markdown",
      "metadata": {
        "id": "38uxiv_B69ka"
      },
      "source": [
        "# **Python 기본 데이터 타입**\n",
        "\n",
        "Python 에서 사용할 수 있는 데이터 타입을 알아보겠습니다.\n",
        "\n",
        "Python 기본 데이터 타입에는 숫자, 문자, 불리언, None 등이 있습니다.\n",
        "\n"
      ]
    },
    {
      "cell_type": "markdown",
      "metadata": {
        "id": "7FfSRkBy8XqB"
      },
      "source": [
        "# **숫자 Numbers**\n",
        "\n",
        "숫자는 말 그대로 숫자 형태로 이루어진 데이터 타입입니다.\n",
        "\n",
        "크게 정수형 int 와 실수형 float 로 나누어집니다.\n",
        "\n",
        "정수형 예시\n",
        "```\n",
        "1  \n",
        "12345  \n",
        "-534\n",
        "```\n",
        "> \n",
        "실수형 예시\n",
        "```\n",
        "1.0  \n",
        "3.141592  \n",
        "10E32\n",
        "```"
      ]
    },
    {
      "cell_type": "code",
      "metadata": {
        "id": "67XtgM3PdqES"
      },
      "source": [
        "a = 1"
      ],
      "execution_count": null,
      "outputs": []
    },
    {
      "cell_type": "code",
      "metadata": {
        "colab": {
          "base_uri": "https://localhost:8080/"
        },
        "id": "GMPiOHSLgGin",
        "outputId": "6651236a-32e6-460a-d74a-2c47516a1b99"
      },
      "source": [
        "type(a)"
      ],
      "execution_count": null,
      "outputs": [
        {
          "output_type": "execute_result",
          "data": {
            "text/plain": [
              "int"
            ]
          },
          "metadata": {},
          "execution_count": 38
        }
      ]
    },
    {
      "cell_type": "markdown",
      "metadata": {
        "id": "RqazRDqB8ZMY"
      },
      "source": [
        "# **문자 Strings**\n",
        "\n",
        "문자는 문자로 이루어진 데이터 타입입니다.\n",
        "\n",
        "큰 따옴표나 작은 따옴표로 감싸 표현합니다.\n",
        "\n",
        "```\n",
        "\"피카츄\", '라이츄', \"pokemon\"\n",
        "```\n",
        "\n",
        "앞서 소개한 것처럼 파이썬에서는 대소문자를 구분하기 때문에 \n",
        "\n",
        "같은 스펠링이더라도 대소문자가 다르면 다른 문자로 판단합니다.\n"
      ]
    },
    {
      "cell_type": "code",
      "metadata": {
        "id": "eAv9gde1eB9A"
      },
      "source": [
        "pokemon = '피카츄'"
      ],
      "execution_count": null,
      "outputs": []
    },
    {
      "cell_type": "code",
      "metadata": {
        "colab": {
          "base_uri": "https://localhost:8080/"
        },
        "id": "TQNVD8GOgYy6",
        "outputId": "167a37fd-ac17-4067-d367-5b8823c2f234"
      },
      "source": [
        "type(pokemon)"
      ],
      "execution_count": null,
      "outputs": [
        {
          "output_type": "execute_result",
          "data": {
            "text/plain": [
              "str"
            ]
          },
          "metadata": {},
          "execution_count": 40
        }
      ]
    },
    {
      "cell_type": "code",
      "metadata": {
        "colab": {
          "base_uri": "https://localhost:8080/"
        },
        "id": "wuu91_BPgbda",
        "outputId": "8d29ccf8-6782-4d18-a95f-c7f226718967"
      },
      "source": [
        "'volvo' == 'Volvo'"
      ],
      "execution_count": null,
      "outputs": [
        {
          "output_type": "execute_result",
          "data": {
            "text/plain": [
              "False"
            ]
          },
          "metadata": {},
          "execution_count": 41
        }
      ]
    },
    {
      "cell_type": "markdown",
      "metadata": {
        "id": "iWtv9kil8aNx"
      },
      "source": [
        "# **불리언 Boolean**\n",
        "\n",
        "불리언은 `True` `False` 두 가지 값을 가지는 데이터 타입입니다.\n",
        "\n",
        "True 는 1, False 는 0 으로도 표현됩니다."
      ]
    },
    {
      "cell_type": "code",
      "metadata": {
        "id": "wCumLulozJDq",
        "colab": {
          "base_uri": "https://localhost:8080/"
        },
        "outputId": "0f9bc804-e0c3-43f8-bfa3-42068c1c1908"
      },
      "source": [
        "False"
      ],
      "execution_count": null,
      "outputs": [
        {
          "output_type": "execute_result",
          "data": {
            "text/plain": [
              "True"
            ]
          },
          "metadata": {},
          "execution_count": 42
        }
      ]
    },
    {
      "cell_type": "markdown",
      "metadata": {
        "id": "5lg0vS7e8XCe"
      },
      "source": [
        "# **None**\n",
        "\n",
        "파이썬에는 None 이라는 데이터 타입이 있습니다. \n",
        "\n",
        "None 은 값이 없음을 뜻합니다.\n",
        "\n",
        "숫자 `0` 과는 다른 값이고, Boolean 의 `False` 값과도 다릅니다."
      ]
    },
    {
      "cell_type": "code",
      "metadata": {
        "colab": {
          "base_uri": "https://localhost:8080/"
        },
        "id": "liA3Dv2RebIo",
        "outputId": "5fc7dbfe-e3d4-4272-d8c5-b9911616544b"
      },
      "source": [
        "None == 0"
      ],
      "execution_count": null,
      "outputs": [
        {
          "output_type": "execute_result",
          "data": {
            "text/plain": [
              "False"
            ]
          },
          "metadata": {},
          "execution_count": 43
        }
      ]
    },
    {
      "cell_type": "code",
      "metadata": {
        "colab": {
          "base_uri": "https://localhost:8080/"
        },
        "id": "PLapa8atg0AZ",
        "outputId": "f4059c7f-fc34-4840-dd3c-271dcbbcd38d"
      },
      "source": [
        "None == False"
      ],
      "execution_count": null,
      "outputs": [
        {
          "output_type": "execute_result",
          "data": {
            "text/plain": [
              "False"
            ]
          },
          "metadata": {},
          "execution_count": 44
        }
      ]
    },
    {
      "cell_type": "markdown",
      "metadata": {
        "id": "Vncwiph-DpvC"
      },
      "source": [
        "# **형변환, Casting**\n",
        "\n",
        "데이터 타입을 바꾸어줄 수 있습니다.\n",
        "\n",
        "예를 들어, 숫자 데이터 타입을 `str( )` 안에 넣어주면 문자 데이터 타입이 됩니다.\n"
      ]
    },
    {
      "cell_type": "code",
      "metadata": {
        "id": "v7dNgt7KVAID"
      },
      "source": [
        "a = 1"
      ],
      "execution_count": null,
      "outputs": []
    },
    {
      "cell_type": "code",
      "metadata": {
        "colab": {
          "base_uri": "https://localhost:8080/"
        },
        "id": "i6Z0hVn8hDQH",
        "outputId": "5d165e12-37f5-46ef-c0cc-0c0bbb1543aa"
      },
      "source": [
        "a"
      ],
      "execution_count": null,
      "outputs": [
        {
          "output_type": "execute_result",
          "data": {
            "text/plain": [
              "1"
            ]
          },
          "metadata": {},
          "execution_count": 49
        }
      ]
    },
    {
      "cell_type": "code",
      "metadata": {
        "colab": {
          "base_uri": "https://localhost:8080/"
        },
        "id": "tUCgaIcjg82u",
        "outputId": "940f25e5-84c3-4bb6-8cf4-eede894fd964"
      },
      "source": [
        "type(a)"
      ],
      "execution_count": null,
      "outputs": [
        {
          "output_type": "execute_result",
          "data": {
            "text/plain": [
              "int"
            ]
          },
          "metadata": {},
          "execution_count": 46
        }
      ]
    },
    {
      "cell_type": "code",
      "metadata": {
        "colab": {
          "base_uri": "https://localhost:8080/"
        },
        "id": "c-SlAkpfg-dN",
        "outputId": "3855b05c-0f7b-4407-b918-cae2dc81d346"
      },
      "source": [
        "type(str(a))"
      ],
      "execution_count": null,
      "outputs": [
        {
          "output_type": "execute_result",
          "data": {
            "text/plain": [
              "str"
            ]
          },
          "metadata": {},
          "execution_count": 51
        }
      ]
    },
    {
      "cell_type": "code",
      "metadata": {
        "colab": {
          "base_uri": "https://localhost:8080/"
        },
        "id": "Nr1QbXOZhBYl",
        "outputId": "bd35f24c-665d-4a85-b4ff-c4009d862b14"
      },
      "source": [
        "type(int('1'))"
      ],
      "execution_count": null,
      "outputs": [
        {
          "output_type": "execute_result",
          "data": {
            "text/plain": [
              "int"
            ]
          },
          "metadata": {},
          "execution_count": 54
        }
      ]
    },
    {
      "cell_type": "code",
      "metadata": {
        "colab": {
          "base_uri": "https://localhost:8080/"
        },
        "id": "D2005EH_hK3M",
        "outputId": "62e62a33-0755-4372-a778-7aacac97a2e7"
      },
      "source": [
        "type(float(1))"
      ],
      "execution_count": null,
      "outputs": [
        {
          "output_type": "execute_result",
          "data": {
            "text/plain": [
              "float"
            ]
          },
          "metadata": {},
          "execution_count": 56
        }
      ]
    }
  ]
}