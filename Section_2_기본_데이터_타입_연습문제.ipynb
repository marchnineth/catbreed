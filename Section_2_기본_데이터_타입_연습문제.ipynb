{
  "nbformat": 4,
  "nbformat_minor": 0,
  "metadata": {
    "colab": {
      "provenance": [],
      "include_colab_link": true
    },
    "kernelspec": {
      "name": "python3",
      "display_name": "Python 3"
    },
    "language_info": {
      "name": "python"
    }
  },
  "cells": [
    {
      "cell_type": "markdown",
      "metadata": {
        "id": "view-in-github",
        "colab_type": "text"
      },
      "source": [
        "<a href=\"https://colab.research.google.com/github/marchnineth/python_practice/blob/main/Section_2_%EA%B8%B0%EB%B3%B8_%EB%8D%B0%EC%9D%B4%ED%84%B0_%ED%83%80%EC%9E%85_%EC%97%B0%EC%8A%B5%EB%AC%B8%EC%A0%9C.ipynb\" target=\"_parent\"><img src=\"https://colab.research.google.com/assets/colab-badge.svg\" alt=\"Open In Colab\"/></a>"
      ]
    },
    {
      "cell_type": "markdown",
      "metadata": {
        "id": "IAgOtBnrKabm"
      },
      "source": [
        "# Q1.\n",
        "my_name이라는 변수에 본인의 이름을 저장하고, my_pokemon에 피카츄를 저장해 보세요. (저장하고 확인까지 해보세요.)"
      ]
    },
    {
      "cell_type": "code",
      "metadata": {
        "id": "E2NAfx4m2OyG"
      },
      "source": [
        "# 답을 입력해주세요.\n",
        "my_name = 'Seongeun'\n",
        "my_pokemon = '피카츄'"
      ],
      "execution_count": 1,
      "outputs": []
    },
    {
      "cell_type": "markdown",
      "metadata": {
        "id": "UkCpGrFVKjYG"
      },
      "source": [
        "# Q2. \n",
        "my_age라는 변수에 본인의 나이를, pokemon_age에 3을 숫자형으로 저장해 보세요.\n"
      ]
    },
    {
      "cell_type": "code",
      "metadata": {
        "id": "ZKBPhhmN6IJb"
      },
      "source": [
        "# 답을 입력해주세요.\n",
        "my_age = 30\n",
        "pokemon_age = 3"
      ],
      "execution_count": 2,
      "outputs": []
    },
    {
      "cell_type": "markdown",
      "metadata": {
        "id": "zoR6TQ5PKsUF"
      },
      "source": [
        "# Q3. \n",
        "my_height에 본인의 키를 소수자리까지 저장하고,\n",
        "pika_height에 피카츄의 키를 저장한 후, 각각의 type을 확인해 보세요.(단위 cm)\n",
        "\n",
        "```\n",
        "피카츄의 키는 40cm입니다\n",
        "```\n"
      ]
    },
    {
      "cell_type": "code",
      "metadata": {
        "id": "3CwxV0D_C771",
        "colab": {
          "base_uri": "https://localhost:8080/"
        },
        "outputId": "e755abba-888f-461b-ba8c-d2f36b95edbc"
      },
      "source": [
        "# 답을 입력해주세요.\n",
        "my_height = 172.1\n",
        "pika_height = 45\n",
        "\n",
        "type(my_height)"
      ],
      "execution_count": 6,
      "outputs": [
        {
          "output_type": "execute_result",
          "data": {
            "text/plain": [
              "float"
            ]
          },
          "metadata": {},
          "execution_count": 6
        }
      ]
    },
    {
      "cell_type": "markdown",
      "metadata": {
        "id": "u-mJGetJKysI"
      },
      "source": [
        "# Q4. \n",
        "나와 포켓몬의 나이 차이를 출력해 보세요. (my_age에서 pika_age를 뺀 값을 출력해 보세요.)\n"
      ]
    },
    {
      "cell_type": "code",
      "metadata": {
        "id": "_2zflTBA6UBL",
        "colab": {
          "base_uri": "https://localhost:8080/"
        },
        "outputId": "d50e33b6-ac7d-4a06-8d6b-bb5a51b26e96"
      },
      "source": [
        "# 답을 입력해주세요.\n",
        "a = my_age - pokemon_age\n",
        "print(a)"
      ],
      "execution_count": 7,
      "outputs": [
        {
          "output_type": "stream",
          "name": "stdout",
          "text": [
            "27\n"
          ]
        }
      ]
    },
    {
      "cell_type": "markdown",
      "metadata": {
        "id": "2kS5Q3CfK5Ka"
      },
      "source": [
        "# Q5. \n",
        "'피카'를 10번 출력해 보세요."
      ]
    },
    {
      "cell_type": "code",
      "metadata": {
        "id": "P4-elLSF66pk",
        "colab": {
          "base_uri": "https://localhost:8080/"
        },
        "outputId": "44622a72-3fcb-4798-acd0-ef904e020449"
      },
      "source": [
        "# 답을 입력해주세요.\n",
        "print('피카'*10)"
      ],
      "execution_count": 8,
      "outputs": [
        {
          "output_type": "stream",
          "name": "stdout",
          "text": [
            "피카피카피카피카피카피카피카피카피카피카\n"
          ]
        }
      ]
    },
    {
      "cell_type": "markdown",
      "metadata": {
        "id": "xOMxHSL2K8l_"
      },
      "source": [
        "# Q6. \n",
        "내 이름과 내 나이, 포켓몬 이름과, 피카츄 나이를 다음과 같은 형식으로 출력하는 코드를 써보세요.\n",
        "\n",
        "```\n",
        "내 이름은 선미, 10살이지.\n",
        "내 포켓몬은 피카츄, 3살이야.\n",
        "```"
      ]
    },
    {
      "cell_type": "code",
      "metadata": {
        "id": "l-NPR-rO9GuA",
        "colab": {
          "base_uri": "https://localhost:8080/"
        },
        "outputId": "ec6e9830-7651-431d-8a3f-cf6607b34899"
      },
      "source": [
        "# 답을 입력해주세요.\n",
        "print(f'내 이름은 {my_name}, {my_age}살이지')"
      ],
      "execution_count": 10,
      "outputs": [
        {
          "output_type": "stream",
          "name": "stdout",
          "text": [
            "내 이름은 Seongeun, 30살이지\n"
          ]
        }
      ]
    },
    {
      "cell_type": "markdown",
      "metadata": {
        "id": "0_gNA1uKLIF3"
      },
      "source": [
        "# Q7. \n",
        "내 키가 피카츄보다 큰지 확인하는 코드를 작성해 보세요. 확인 값은 불리언 타입으로 출력하세요.\n"
      ]
    },
    {
      "cell_type": "code",
      "metadata": {
        "id": "d09KyA_8I2CC",
        "colab": {
          "base_uri": "https://localhost:8080/"
        },
        "outputId": "b483dd0d-eb80-484a-c504-99b3e8ff39ce"
      },
      "source": [
        "# 답을 입력해주세요.\n",
        "Q1 = my_height > pika_height\n",
        "print(Q1)"
      ],
      "execution_count": 13,
      "outputs": [
        {
          "output_type": "stream",
          "name": "stdout",
          "text": [
            "True\n"
          ]
        }
      ]
    },
    {
      "cell_type": "markdown",
      "metadata": {
        "id": "xFa75H47LKyN"
      },
      "source": [
        "# Q8. \n",
        "kobuk_age에 3살을 저장한 후, 피카츄와 나이가 같은지 확인하여 출력하는 코드를 작성해 보세요. 확인한 값은 불리언 타입으로 출력하세요."
      ]
    },
    {
      "cell_type": "code",
      "metadata": {
        "id": "daI6d1nvJK43",
        "colab": {
          "base_uri": "https://localhost:8080/"
        },
        "outputId": "e44129d7-d7c2-4ed9-8ac1-20c0da7941e1"
      },
      "source": [
        "# 답을 입력해주세요.\n",
        "kobuk_age = 3\n",
        "Q2 = kobuk_age == pokemon_age\n",
        "print(Q2)"
      ],
      "execution_count": 16,
      "outputs": [
        {
          "output_type": "stream",
          "name": "stdout",
          "text": [
            "True\n"
          ]
        }
      ]
    },
    {
      "cell_type": "markdown",
      "metadata": {
        "id": "Oshcmlp4LO2H"
      },
      "source": [
        "# Q9. \n",
        "다음은 포켓몬 노래의 가사 일부입니다. song의 공백을 포함한 문자 길이가 어떻게 되는지 출력해 보세요.\n",
        "\n",
        "```\n",
        "song = '피카츄 라이츄 파이리 꼬북이 버터플 야도란 피존투 또가스 서로생긴 모습은 달라도 우리는 모두친구'\n",
        "```\n"
      ]
    },
    {
      "cell_type": "code",
      "metadata": {
        "id": "ABvvdFEW_5_Y",
        "colab": {
          "base_uri": "https://localhost:8080/"
        },
        "outputId": "fd48bbb3-7ffb-4e66-b23c-2ccfb7bfe139"
      },
      "source": [
        "# 답을 입력해주세요.\n",
        "song = '피카츄 라이츄 파이리 꼬북이 버터플 야도란 피존투 또가스 서로생긴 모습은 달라도 우리는 모두친구'\n",
        "aa = len(song)\n",
        "print(aa)"
      ],
      "execution_count": 20,
      "outputs": [
        {
          "output_type": "stream",
          "name": "stdout",
          "text": [
            "53\n"
          ]
        }
      ]
    },
    {
      "cell_type": "markdown",
      "metadata": {
        "id": "ZQLrdDfoLv2n"
      },
      "source": [
        "# Q10. \n",
        "위 노래 song을 띄어쓰기를 기준으로 words라는 변수명에 저장해 보세요.\n",
        "\n",
        "힌트1 : string에서 사용할 수 있는 메서드들을 확인해 보세요.\n",
        "\n",
        "힌트2 : split()을 사용해 보세요.\n"
      ]
    },
    {
      "cell_type": "code",
      "metadata": {
        "id": "dGW-6T5RA4sV",
        "colab": {
          "base_uri": "https://localhost:8080/"
        },
        "outputId": "02ca3289-751f-4fa4-af2a-adb6565cb577"
      },
      "source": [
        "# 답을 입력해주세요.\n",
        "words = song.split()\n",
        "print(words)"
      ],
      "execution_count": 22,
      "outputs": [
        {
          "output_type": "stream",
          "name": "stdout",
          "text": [
            "['피카츄', '라이츄', '파이리', '꼬북이', '버터플', '야도란', '피존투', '또가스', '서로생긴', '모습은', '달라도', '우리는', '모두친구']\n"
          ]
        }
      ]
    }
  ]
}