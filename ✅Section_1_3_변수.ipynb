{
  "nbformat": 4,
  "nbformat_minor": 0,
  "metadata": {
    "colab": {
      "provenance": [],
      "include_colab_link": true
    },
    "kernelspec": {
      "name": "python3",
      "display_name": "Python 3"
    },
    "language_info": {
      "name": "python"
    }
  },
  "cells": [
    {
      "cell_type": "markdown",
      "metadata": {
        "id": "view-in-github",
        "colab_type": "text"
      },
      "source": [
        "<a href=\"https://colab.research.google.com/github/marchnineth/python_practice/blob/main/%E2%9C%85Section_1_3_%EB%B3%80%EC%88%98.ipynb\" target=\"_parent\"><img src=\"https://colab.research.google.com/assets/colab-badge.svg\" alt=\"Open In Colab\"/></a>"
      ]
    },
    {
      "cell_type": "markdown",
      "metadata": {
        "id": "jUJSAAD9KE-U"
      },
      "source": [
        "# **변수(variable) : 데이터를 저장하기 위한 공간**"
      ]
    },
    {
      "cell_type": "markdown",
      "metadata": {
        "id": "uK4Kbv0xokld"
      },
      "source": [
        "# **변수란?** \n",
        "\n",
        "프로그램은 작업을 처리하는 과정에서 필요에 따라 데이터를 컴퓨터 메모리에 저장합니다.\n",
        "\n",
        "값을 저장해 놓고 추후에 다시 사용하려면, 컴퓨터 내의 메모리를 **할당** 즉 메모리 내에서 자리를 만들어 지정해야하는데, 사람이 쉽게 기억하기 위해 **'변수명'**을 부여해서 값을 저장합니다."
      ]
    },
    {
      "cell_type": "code",
      "metadata": {
        "id": "VPzDSRA9cz21"
      },
      "source": [
        "x = 5"
      ],
      "execution_count": null,
      "outputs": []
    },
    {
      "cell_type": "code",
      "metadata": {
        "colab": {
          "base_uri": "https://localhost:8080/"
        },
        "id": "n1sDAQfftzgR",
        "outputId": "ed36ffd5-7e79-45c8-da8d-cd93bc8e2737"
      },
      "source": [
        "x"
      ],
      "execution_count": null,
      "outputs": [
        {
          "output_type": "execute_result",
          "data": {
            "text/plain": [
              "5"
            ]
          },
          "metadata": {},
          "execution_count": 7
        }
      ]
    },
    {
      "cell_type": "markdown",
      "metadata": {
        "id": "R6EManDwve2M"
      },
      "source": [
        "# **변수 선언하기**\n",
        "변수를 만들고 값을 저장하는 것을 변수를 선언한다고 합니다.\n",
        "\n",
        "변수를 선언하기 위해서는 **변수명**과  **할당연산자 '='** 그리고 **값** 이렇게 3가지가 필요합니다.\n",
        "\n",
        "```python\n",
        "변수명 = 값\n",
        "```"
      ]
    },
    {
      "cell_type": "markdown",
      "metadata": {
        "id": "97ohpI5tos_t"
      },
      "source": [
        "## 할당연산자 '='\n",
        "일상적으로 '='라는 기호를 앞의 내용과 뒤의 내용이 '같다'는 표현으로 쓰죠, 그런데 프로그래밍 언어에서는 조금 다릅니다.\n",
        "\n",
        "위에 작성한 구문은 *'**변수명**과 **값**은 **같다**'* 기보다, *'**값**을 **변수명**에 **저장하라**'*는 명령으로 읽어야 합니다."
      ]
    },
    {
      "cell_type": "code",
      "metadata": {
        "id": "rsgNyRZpc44E"
      },
      "source": [
        "x = 3"
      ],
      "execution_count": null,
      "outputs": []
    },
    {
      "cell_type": "markdown",
      "metadata": {
        "id": "VtRE1Vo4jDF_"
      },
      "source": [
        "# **변수명 명명법**\n",
        "변수에 이름을 붙일 때 신경 써야 하는 규칙이 몇 개 있습니다. 대부분 기억하기 쉽기 때문에 규칙이라고 해서 걱정을 할 필요는 없습니다."
      ]
    },
    {
      "cell_type": "markdown",
      "metadata": {
        "id": "tIAUyWwWHTMT"
      },
      "source": [
        "### 1. 변수명은 숫자로 시작할 수 없음"
      ]
    },
    {
      "cell_type": "code",
      "metadata": {
        "id": "OmkFo5L-qhgp",
        "colab": {
          "base_uri": "https://localhost:8080/",
          "height": 131
        },
        "outputId": "524241e7-8586-4671-9a72-18e764d8a050"
      },
      "source": [
        "1x = 5"
      ],
      "execution_count": null,
      "outputs": [
        {
          "output_type": "error",
          "ename": "SyntaxError",
          "evalue": "ignored",
          "traceback": [
            "\u001b[0;36m  File \u001b[0;32m\"<ipython-input-1-a38823eb2d7e>\"\u001b[0;36m, line \u001b[0;32m1\u001b[0m\n\u001b[0;31m    1x = 5\u001b[0m\n\u001b[0m     ^\u001b[0m\n\u001b[0;31mSyntaxError\u001b[0m\u001b[0;31m:\u001b[0m invalid syntax\n"
          ]
        }
      ]
    },
    {
      "cell_type": "markdown",
      "metadata": {
        "id": "riiLQsvcHbD8"
      },
      "source": [
        "### 2. 변수명에는 공백, 기호, 마침표가 들어갈 수 없음"
      ]
    },
    {
      "cell_type": "code",
      "metadata": {
        "id": "HbN14uweqtzg"
      },
      "source": [
        "# my age = 5\n",
        "my_age = 5"
      ],
      "execution_count": null,
      "outputs": []
    },
    {
      "cell_type": "markdown",
      "metadata": {
        "id": "9jWb4ZhdHd5l"
      },
      "source": [
        "### 3. 예약어는 변수명으로 사용할 수 없음\n",
        "\n",
        "\n",
        "파이썬의 예약어들은 아래와 같아요.\n",
        "\n",
        "| | ||\n",
        "|--|--|--|\n",
        "and|exec| not\n",
        "assert|finally|or\n",
        "break|for|pass\n",
        "class|from|print\n",
        "continue|global|raise\n",
        "def|if|return\n",
        "del|import|try\n",
        "elif|in|while\n",
        "else|is|with\n",
        "except|lambda|yield\n",
        "\n"
      ]
    },
    {
      "cell_type": "code",
      "metadata": {
        "id": "br9wvjNcvqzJ",
        "colab": {
          "base_uri": "https://localhost:8080/",
          "height": 131
        },
        "outputId": "119ab2b3-30af-4fec-d21c-4ad5e3c88597"
      },
      "source": [
        "for = 1"
      ],
      "execution_count": null,
      "outputs": [
        {
          "output_type": "error",
          "ename": "SyntaxError",
          "evalue": "ignored",
          "traceback": [
            "\u001b[0;36m  File \u001b[0;32m\"<ipython-input-2-b26be1b49601>\"\u001b[0;36m, line \u001b[0;32m1\u001b[0m\n\u001b[0;31m    for = 1\u001b[0m\n\u001b[0m        ^\u001b[0m\n\u001b[0;31mSyntaxError\u001b[0m\u001b[0;31m:\u001b[0m invalid syntax\n"
          ]
        }
      ]
    },
    {
      "cell_type": "markdown",
      "metadata": {
        "id": "ewfvTPAoq6L7"
      },
      "source": [
        "# **좋은 변수명 짓기**"
      ]
    },
    {
      "cell_type": "markdown",
      "metadata": {
        "id": "GNaT0pCt79kv"
      },
      "source": [
        "### 1. 이해할 수 있게\n",
        "\n",
        "변수 이름을 잘 짓는 방식은 다양하지만, 권장하는 방식은 변수 이름 자체가 변수를 설명할 수 있게 하는 방식입니다. \n",
        "\n",
        "두문자어(축약어), 약어, 의미 없는 이름은 최대한 사용하지 않는 것이 코드를 같이 읽는 사람에게도, 미래의 본인에게도 도움이 됩니다."
      ]
    },
    {
      "cell_type": "markdown",
      "metadata": {
        "id": "WMoZpGJZwPbt"
      },
      "source": [
        "**나쁜 예**\n",
        "\n",
        "```python\n",
        ">>> # Not recommended\n",
        ">>> x = 'John Smith'\n",
        ">>> y, z = x.split()\n",
        ">>> print(z, y, sep=', ')\n",
        "'Smith, John'\n",
        "```\n",
        "\n",
        "**좋은 예**\n",
        "```python\n",
        ">>> # Recommended\n",
        ">>> name = 'John Smith'\n",
        ">>> first_name, last_name = name.split()\n",
        ">>> print(last_name, first_name, sep=', ')\n",
        "'Smith, John'\n",
        "```"
      ]
    },
    {
      "cell_type": "code",
      "metadata": {
        "id": "6bFetP6RdFuE"
      },
      "source": [
        "x = 'John Smith'\n",
        "y, z = x.split()"
      ],
      "execution_count": null,
      "outputs": []
    },
    {
      "cell_type": "code",
      "metadata": {
        "id": "3hzAUAfCvaCC"
      },
      "source": [
        "name = 'John Smith'\n",
        "first_name, last_name = name.split()"
      ],
      "execution_count": null,
      "outputs": []
    },
    {
      "cell_type": "markdown",
      "metadata": {
        "id": "73kjDbF1xWye"
      },
      "source": [
        "### 2. 표기법\n",
        "\n",
        "변수 이름 자체가 변수를 설명할 수 있게 하려면, 보통 여러 단어로 이뤄지게 될 가능성이 높습니다. 여러 단어로 이뤄진 변수 이름을 짓는 가장 일반적인 두 가지 방법으로 카멀 케이스(camelCase)와 스네이크 케이스(snake_case)가 있습니다. 둘 중 어느 방식을 쓰든 간에 일관성을 유지하고 선택을 고수하는 것이 중요합니다.\n",
        "\n",
        "- **camelCase**는 첫 번째 단어 다음에 이어지는 각 단어의 첫 글자를 대문자로 하고, \n",
        "\n",
        "- **snake_case** 는 각 단어를 밑줄(_)로 구분하여 표기합니다.\n",
        "\n",
        "그리고 **파이썬의 변수명 네이밍 컨벤션**에서는 스네이크 케이스(snake_case)를 추천하기 때문에, 앞으로 저희도 스네이크 케이스로 변수명을 만들도록 합시다.\n",
        "\n"
      ]
    },
    {
      "cell_type": "code",
      "metadata": {
        "id": "KihXkz-mdIWl"
      },
      "source": [
        "first_name"
      ],
      "execution_count": null,
      "outputs": []
    },
    {
      "cell_type": "markdown",
      "metadata": {
        "id": "4TDNjo1q7w34"
      },
      "source": [
        "### 3. 팀의 컨벤션을 존중하자"
      ]
    },
    {
      "cell_type": "markdown",
      "metadata": {
        "id": "_kA0Oi6O1Cbx"
      },
      "source": [
        "변수명은 사실 여러 상황에 따라 다양하게 스타일을 주기는 하는데, 더 알아보고 싶다면 파이썬의 공식 네이밍 컨벤션을 확인해 보세요.\n",
        "https://www.python.org/dev/peps/pep-0008/#naming-conventions\n"
      ]
    }
  ]
}