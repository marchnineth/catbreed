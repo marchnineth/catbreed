{
  "nbformat": 4,
  "nbformat_minor": 0,
  "metadata": {
    "colab": {
      "provenance": [],
      "include_colab_link": true
    },
    "kernelspec": {
      "name": "python3",
      "display_name": "Python 3"
    },
    "language_info": {
      "name": "python"
    }
  },
  "cells": [
    {
      "cell_type": "markdown",
      "metadata": {
        "id": "view-in-github",
        "colab_type": "text"
      },
      "source": [
        "<a href=\"https://colab.research.google.com/github/marchnineth/python_practice/blob/main/%E2%9C%85Section_2_4_%EB%B6%88%EB%A6%AC%EC%96%B8.ipynb\" target=\"_parent\"><img src=\"https://colab.research.google.com/assets/colab-badge.svg\" alt=\"Open In Colab\"/></a>"
      ]
    },
    {
      "cell_type": "markdown",
      "metadata": {
        "id": "1CsygJewq_th"
      },
      "source": [
        "# **불리언 Boolean**\n",
        "\n",
        "True 또는 False\n",
        "\n",
        "주로 어떤 연산의 결과 값으로 반환되어 사용됨"
      ]
    },
    {
      "cell_type": "code",
      "metadata": {
        "id": "pRQDVIKCDAiB",
        "colab": {
          "base_uri": "https://localhost:8080/"
        },
        "outputId": "ef2077c2-c9df-44f2-8eee-ab6d188e62a0"
      },
      "source": [
        "True"
      ],
      "execution_count": null,
      "outputs": [
        {
          "output_type": "execute_result",
          "data": {
            "text/plain": [
              "True"
            ]
          },
          "metadata": {},
          "execution_count": 1
        }
      ]
    },
    {
      "cell_type": "code",
      "metadata": {
        "colab": {
          "base_uri": "https://localhost:8080/"
        },
        "id": "IgU34shzd2Us",
        "outputId": "fee9d8e9-d055-45a3-c90d-5cc8eb5971e1"
      },
      "source": [
        "False"
      ],
      "execution_count": null,
      "outputs": [
        {
          "output_type": "execute_result",
          "data": {
            "text/plain": [
              "False"
            ]
          },
          "metadata": {},
          "execution_count": 2
        }
      ]
    },
    {
      "cell_type": "code",
      "metadata": {
        "colab": {
          "base_uri": "https://localhost:8080/"
        },
        "id": "eIf0bKuWeyQw",
        "outputId": "9c8e7b7a-1134-40b6-845a-0921d1f0ac4c"
      },
      "source": [
        "2 > 1"
      ],
      "execution_count": null,
      "outputs": [
        {
          "output_type": "execute_result",
          "data": {
            "text/plain": [
              "True"
            ]
          },
          "metadata": {},
          "execution_count": 20
        }
      ]
    },
    {
      "cell_type": "code",
      "metadata": {
        "colab": {
          "base_uri": "https://localhost:8080/"
        },
        "id": "pL2nWkwrd4ef",
        "outputId": "6d30eb29-1ce5-4cd2-d573-af6d95e9831a"
      },
      "source": [
        "3 in [1, 2, 3, 4]"
      ],
      "execution_count": null,
      "outputs": [
        {
          "output_type": "execute_result",
          "data": {
            "text/plain": [
              "True"
            ]
          },
          "metadata": {},
          "execution_count": 4
        }
      ]
    },
    {
      "cell_type": "markdown",
      "metadata": {
        "id": "0XHcABK1E4SR"
      },
      "source": [
        "# **불리언 연산**"
      ]
    },
    {
      "cell_type": "code",
      "metadata": {
        "id": "fe6hm5wsE6T0",
        "colab": {
          "base_uri": "https://localhost:8080/"
        },
        "outputId": "efcb0430-7f40-4677-b6ca-36ea8b82c522"
      },
      "source": [
        "True + True"
      ],
      "execution_count": null,
      "outputs": [
        {
          "output_type": "execute_result",
          "data": {
            "text/plain": [
              "2"
            ]
          },
          "metadata": {},
          "execution_count": 7
        }
      ]
    },
    {
      "cell_type": "code",
      "metadata": {
        "colab": {
          "base_uri": "https://localhost:8080/"
        },
        "id": "rzwJAEGDeDQt",
        "outputId": "5ff4f90a-0a5b-4ba3-e687-6681f38e9eab"
      },
      "source": [
        "False + True"
      ],
      "execution_count": null,
      "outputs": [
        {
          "output_type": "execute_result",
          "data": {
            "text/plain": [
              "1"
            ]
          },
          "metadata": {},
          "execution_count": 8
        }
      ]
    },
    {
      "cell_type": "code",
      "metadata": {
        "colab": {
          "base_uri": "https://localhost:8080/"
        },
        "id": "OJs-OL-weH4p",
        "outputId": "fec6b2af-1c8a-4b8a-a065-685589f68666"
      },
      "source": [
        "False + False"
      ],
      "execution_count": null,
      "outputs": [
        {
          "output_type": "execute_result",
          "data": {
            "text/plain": [
              "0"
            ]
          },
          "metadata": {},
          "execution_count": 9
        }
      ]
    },
    {
      "cell_type": "markdown",
      "metadata": {
        "id": "ua3Et1QIEsTI"
      },
      "source": [
        "# **불리언을 다른 타입으로 형변환**"
      ]
    },
    {
      "cell_type": "code",
      "metadata": {
        "id": "UvSM6BDkE01w",
        "colab": {
          "base_uri": "https://localhost:8080/"
        },
        "outputId": "ab557eda-b710-4c2e-cb8e-7ac1321f51ff"
      },
      "source": [
        "int(True)"
      ],
      "execution_count": null,
      "outputs": [
        {
          "output_type": "execute_result",
          "data": {
            "text/plain": [
              "1"
            ]
          },
          "metadata": {},
          "execution_count": 10
        }
      ]
    },
    {
      "cell_type": "code",
      "metadata": {
        "colab": {
          "base_uri": "https://localhost:8080/"
        },
        "id": "uxRsqYOye4EX",
        "outputId": "6f4b4d3d-13ec-42eb-abd1-bf3db4b85b38"
      },
      "source": [
        "int(False)"
      ],
      "execution_count": null,
      "outputs": [
        {
          "output_type": "execute_result",
          "data": {
            "text/plain": [
              "0"
            ]
          },
          "metadata": {},
          "execution_count": 21
        }
      ]
    },
    {
      "cell_type": "code",
      "metadata": {
        "colab": {
          "base_uri": "https://localhost:8080/"
        },
        "id": "fO6_cSqsePAb",
        "outputId": "76dc3266-acde-4413-8a66-5beaee3a2537"
      },
      "source": [
        "float(True)"
      ],
      "execution_count": null,
      "outputs": [
        {
          "output_type": "execute_result",
          "data": {
            "text/plain": [
              "1.0"
            ]
          },
          "metadata": {},
          "execution_count": 11
        }
      ]
    },
    {
      "cell_type": "code",
      "metadata": {
        "colab": {
          "base_uri": "https://localhost:8080/",
          "height": 35
        },
        "id": "rRDnegHTeQPY",
        "outputId": "b87d56e1-dce7-4379-be56-d90a81c2aa22"
      },
      "source": [
        "str(True)"
      ],
      "execution_count": null,
      "outputs": [
        {
          "output_type": "execute_result",
          "data": {
            "application/vnd.google.colaboratory.intrinsic+json": {
              "type": "string"
            },
            "text/plain": [
              "'True'"
            ]
          },
          "metadata": {},
          "execution_count": 12
        }
      ]
    },
    {
      "cell_type": "markdown",
      "metadata": {
        "id": "_NqZdlonuivW"
      },
      "source": [
        "# `bool()` **형변환**"
      ]
    },
    {
      "cell_type": "markdown",
      "metadata": {
        "id": "j7Crv6QX_Cfa"
      },
      "source": [
        "### 숫자"
      ]
    },
    {
      "cell_type": "code",
      "metadata": {
        "id": "jtekKGgzFYEl",
        "colab": {
          "base_uri": "https://localhost:8080/"
        },
        "outputId": "c90a1028-6392-471d-9a66-3c152f25a106"
      },
      "source": [
        "bool(1)"
      ],
      "execution_count": null,
      "outputs": [
        {
          "output_type": "execute_result",
          "data": {
            "text/plain": [
              "True"
            ]
          },
          "metadata": {},
          "execution_count": 13
        }
      ]
    },
    {
      "cell_type": "code",
      "metadata": {
        "colab": {
          "base_uri": "https://localhost:8080/"
        },
        "id": "JVlqwR9oeY0-",
        "outputId": "77b1fb69-8195-425a-8111-60c262ca4c20"
      },
      "source": [
        "bool(1.5)"
      ],
      "execution_count": null,
      "outputs": [
        {
          "output_type": "execute_result",
          "data": {
            "text/plain": [
              "True"
            ]
          },
          "metadata": {},
          "execution_count": 14
        }
      ]
    },
    {
      "cell_type": "code",
      "metadata": {
        "colab": {
          "base_uri": "https://localhost:8080/"
        },
        "id": "o5lELTHCeawS",
        "outputId": "418f8c2a-964f-483a-c4c2-f1364aed9a5a"
      },
      "source": [
        "bool(0)"
      ],
      "execution_count": null,
      "outputs": [
        {
          "output_type": "execute_result",
          "data": {
            "text/plain": [
              "False"
            ]
          },
          "metadata": {},
          "execution_count": 15
        }
      ]
    },
    {
      "cell_type": "markdown",
      "metadata": {
        "id": "82Em6Bew_Ofn"
      },
      "source": [
        "### None"
      ]
    },
    {
      "cell_type": "code",
      "metadata": {
        "id": "NoU4PyzXvR2i",
        "colab": {
          "base_uri": "https://localhost:8080/"
        },
        "outputId": "31e6b1ab-ac91-4415-ad5e-075e4d4f12a4"
      },
      "source": [
        "bool(None)"
      ],
      "execution_count": null,
      "outputs": [
        {
          "output_type": "execute_result",
          "data": {
            "text/plain": [
              "False"
            ]
          },
          "metadata": {},
          "execution_count": 16
        }
      ]
    },
    {
      "cell_type": "markdown",
      "metadata": {
        "id": "Gv11GAkL_VUm"
      },
      "source": [
        "### 리스트"
      ]
    },
    {
      "cell_type": "code",
      "metadata": {
        "id": "jflevBqOvuLN",
        "colab": {
          "base_uri": "https://localhost:8080/"
        },
        "outputId": "ee23a9bd-8d37-4b60-dc92-d6fe238ee386"
      },
      "source": [
        "bool([1, 2, 3, 4])"
      ],
      "execution_count": null,
      "outputs": [
        {
          "output_type": "execute_result",
          "data": {
            "text/plain": [
              "True"
            ]
          },
          "metadata": {},
          "execution_count": 17
        }
      ]
    },
    {
      "cell_type": "code",
      "metadata": {
        "colab": {
          "base_uri": "https://localhost:8080/"
        },
        "id": "yEmU4PG3emX7",
        "outputId": "ce74099e-cae4-44e6-b025-37b1640d1c85"
      },
      "source": [
        "bool([])"
      ],
      "execution_count": null,
      "outputs": [
        {
          "output_type": "execute_result",
          "data": {
            "text/plain": [
              "False"
            ]
          },
          "metadata": {},
          "execution_count": 19
        }
      ]
    }
  ]
}